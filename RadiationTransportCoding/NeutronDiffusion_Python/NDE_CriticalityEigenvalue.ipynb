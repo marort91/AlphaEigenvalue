{
 "cells": [
  {
   "cell_type": "markdown",
   "metadata": {},
   "source": [
    "# Neutron Diffusion Equation Criticality Eigenvalue Calculation #\n",
    "\n",
    "\n",
    "Description: Solves neutron diffusion equation (NDE) in slab geometry. Finds width of critical slab using one-speed diffusion theory with zero flux boundary conditions on the edges."
   ]
  },
  {
   "cell_type": "markdown",
   "metadata": {},
   "source": [
    "### Neutron Diffusion Equation in Slab with Fission Source ###\n",
    "The NDE in a slab is given by\n",
    "\n",
    " $$ -\\frac{d}{dx}D(x)\\frac{d\\phi(x)}{dx} + \\Sigma_a \\phi(x) = \\frac{1}{k}\\nu\n",
    " \\Sigma_f \\phi(x) $$\n",
    "\n",
    " where $D(x)$ is the diffusion coefficient, $\\Sigma_a$ and $\\Sigma_f$ are\n",
    " the absorption and fission macroscopic cross sections, $\\nu$ is the\n",
    " average number of neutrons emitted in fission, and $k$ is k-effective.\n"
   ]
  },
  {
   "cell_type": "markdown",
   "metadata": {},
   "source": [
    "### Import Python Libraries ###"
   ]
  },
  {
   "cell_type": "code",
   "execution_count": 38,
   "metadata": {
    "collapsed": false
   },
   "outputs": [],
   "source": [
    "%matplotlib inline\n",
    "\n",
    "import numpy as np\n",
    "import matplotlib.pyplot as plt"
   ]
  },
  {
   "cell_type": "markdown",
   "metadata": {},
   "source": [
    "### Material Properties ###"
   ]
  },
  {
   "cell_type": "code",
   "execution_count": 39,
   "metadata": {
    "collapsed": true
   },
   "outputs": [],
   "source": [
    "D = 0.9\n",
    "nusigf = 0.70\n",
    "siga = 0.066"
   ]
  },
  {
   "cell_type": "markdown",
   "metadata": {},
   "source": [
    "### Slab Geometry Width and Discretization ###"
   ]
  },
  {
   "cell_type": "code",
   "execution_count": 40,
   "metadata": {
    "collapsed": false
   },
   "outputs": [],
   "source": [
    "#Lx = np.pi*((nusigf-siga)/D)**(-0.5)\n",
    "Lx = 15.0\n",
    "\n",
    "N = 50;\n",
    "h = Lx/(N-1)\n",
    "\n",
    "x = np.zeros(N)\n",
    "\n",
    "for i in range(N-1):\n",
    "    x[i+1] = x[i] + h\n",
    "    "
   ]
  },
  {
   "cell_type": "markdown",
   "metadata": {},
   "source": [
    "### Generation of Leakage and Absorption Matrices ###"
   ]
  },
  {
   "cell_type": "code",
   "execution_count": 41,
   "metadata": {
    "collapsed": false
   },
   "outputs": [],
   "source": [
    "L = np.zeros((N,N))\n",
    "A = np.zeros((N,N))\n",
    "M = np.zeros((N,N))\n",
    "\n",
    "for i in range(N):\n",
    "    L[i][i] = L[i][i] + (-2*(-D/(h**2)))\n",
    "    \n",
    "for i in range(1,N):\n",
    "    L[i][i-1] = L[i][i-1] + (1*(-D/h**2))\n",
    "    \n",
    "for i in range(N-1):\n",
    "    L[i][i+1] = L[i][i+1] + (1*(-D/h**2))\n",
    "    \n",
    "for i in range(N):\n",
    "    A[i][i] = A[i][i] + siga\n",
    "    \n",
    "M = L + A"
   ]
  },
  {
   "cell_type": "markdown",
   "metadata": {},
   "source": [
    "### Boundary Conditions $(\\phi(0) = \\phi(L) = 0)$ ###"
   ]
  },
  {
   "cell_type": "code",
   "execution_count": 42,
   "metadata": {
    "collapsed": false
   },
   "outputs": [],
   "source": [
    "M[0][0] = 1\n",
    "M[0][1] = 0\n",
    "M[N-1][N-1] = 1\n",
    "M[N-1][N-2] = 0\n",
    "\n",
    "phi0 = np.ones((N,1))\n",
    "phi0[0] = 0\n",
    "phi0[N-1] = 0"
   ]
  },
  {
   "cell_type": "markdown",
   "metadata": {},
   "source": [
    "### Power Iteration Scheme for k-eigenvalue and Flux ###\n",
    "Algorithm: We input an initial flux $\\phi^{(0)}(x)$ and k-effective value $k_0$ and solve the equation:\n",
    "\n",
    "$$ M \\psi^{(0)}(x) = \\frac{1}{k} F \\phi^{(0)}(x) $$\n",
    "\n",
    "for $\\psi^{(0)}(x)$. Using this function, we calculate the next k-effective iterate using\n",
    "\n",
    "$$ k^{n+1} = \\frac{\\sum \\nu \\Sigma_f \\psi^{(n)}(x)}{\\sum \\nu \\Sigma_f \\phi^{(n)}(x)} $$\n",
    "\n",
    "The new flux $\\phi^{(n+1)}(x)$ is calculated\n",
    "\n",
    "$$ \\phi^{(n+1)}(x) = \\frac{1}{k} \\psi^{(n)}(x) $$.\n",
    " \n",
    "This is done until the two-norm difference between k-effective iterations is less than some tolerance."
   ]
  },
  {
   "cell_type": "code",
   "execution_count": 43,
   "metadata": {
    "collapsed": false
   },
   "outputs": [
    {
     "name": "stdout",
     "output_type": "stream",
     "text": [
      "k-effective =  [ 6.63727957]\n",
      " approx alpha =  [ 0.5945351]\n"
     ]
    },
    {
     "data": {
      "image/png": "[encoded data removed]",
      "text/plain": [
       "<matplotlib.figure.Figure at 0x109422f50>"
      ]
     },
     "metadata": {},
     "output_type": "display_data"
    }
   ],
   "source": [
    "tol = 1e-15\n",
    "k = 1.00\n",
    "\n",
    "for i in range(100):\n",
    "    \n",
    "    kold = k\n",
    "    psi = np.linalg.solve(M,nusigf*phi0)\n",
    "    \n",
    "    k = sum(nusigf*psi)/sum(nusigf*phi0)\n",
    "    phi0 = (1/k)*psi\n",
    "    phi0[0] = 0\n",
    "    phi0[N-1] = 0\n",
    "    \n",
    "    residual = np.abs(k-kold)\n",
    "    \n",
    "    if residual <= tol:\n",
    "        break\n",
    "        \n",
    "plt.plot(x,phi0)\n",
    "plt.xlabel('Slab (cm)')\n",
    "plt.ylabel('Neutron Flux')\n",
    "plt.grid()\n",
    "\n",
    "print \"k-effective = \", k\n",
    "\n",
    "print \" approx alpha = \", (k-1)/k * sum(nusigf*phi0)/sum(phi0)"
   ]
  },
  {
   "cell_type": "code",
   "execution_count": null,
   "metadata": {
    "collapsed": true
   },
   "outputs": [],
   "source": []
  },
  {
   "cell_type": "code",
   "execution_count": null,
   "metadata": {
    "collapsed": true
   },
   "outputs": [],
   "source": []
  },
  {
   "cell_type": "code",
   "execution_count": null,
   "metadata": {
    "collapsed": true
   },
   "outputs": [],
   "source": []
  },
  {
   "cell_type": "code",
   "execution_count": null,
   "metadata": {
    "collapsed": true
   },
   "outputs": [],
   "source": []
  }
 ],
 "metadata": {
  "kernelspec": {
   "display_name": "Python 2",
   "language": "python",
   "name": "python2"
  },
  "language_info": {
   "codemirror_mode": {
    "name": "ipython",
    "version": 2
   },
   "file_extension": ".py",
   "mimetype": "text/x-python",
   "name": "python",
   "nbconvert_exporter": "python",
   "pygments_lexer": "ipython2",
   "version": "2.7.11"
  }
 },
 "nbformat": 4,
 "nbformat_minor": 0
}
