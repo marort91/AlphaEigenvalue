{
 "cells": [
  {
   "cell_type": "markdown",
   "metadata": {
    "collapsed": true
   },
   "source": [
    "## Computing the Alpha-Eigenvalue Using Nonlinear Solvers ##\n",
    "\n",
    "Authors: Erin D. Fichtl and James S. Warsa\n",
    "\n",
    "Organization: Los Alamos National Laboratory, Computational Physics Group\n"
   ]
  },
  {
   "cell_type": "markdown",
   "metadata": {
    "collapsed": true
   },
   "source": [
    "### Introduction ###\n",
    "\n",
    "$\\alpha$-eigenvalue formulation of the multigroup (MG) neutron transport equation (NTE) formed by assuming exponential time-behavior of flux\n",
    "\n",
    "$$ \\psi_{g,n}(\\mathbf{r},t) = e^{\\alpha t} \\psi^{\\alpha}_{g,n}(\\mathbf{r}) $$\n",
    "\n",
    "Plugging in the flux to the MG NTE:\n",
    "\n",
    "$$\n",
    "\\begin{equation}  \n",
    "\\bigg ( \\frac{\\alpha}{v_g} + \\hat{\\Omega}_n \\cdot \\nabla + \\sigma_{t,g}(\\mathbf{r}) \\bigg ) \\psi^{\\alpha}_{g,n} = \\sum_{g'} \\sigma_{s,g'\\rightarrow g}(\\mathbf{r})\\phi^{\\alpha}_{g'} + \\sum_{g'} \\bar{\\nu} \\sigma_{f,g' \\rightarrow g}(\\mathbf{r})\\phi^{\\alpha}_{g'}\n",
    "\\end{equation}\n",
    "$$\n",
    "\n",
    "Dominant mode corresponds to algebraically largest eigenvalue.\n",
    "\n",
    "### Methods ###\n",
    "\n",
    "#### k-eigenvalue method ####\n",
    "\n",
    "Traditionally computed using multiple k-eigenvalue solutions.\n",
    "\n",
    "Limitation: If $\\alpha$ is negative enough, effective total cross section becomes negative in some groups: \n",
    "\n",
    "$$ \\tilde{\\sigma}_{t,g} = \\bigg ( \\frac{\\alpha}{v_g} + \\sigma_{t,g} \\bigg ) < 0. $$\n",
    "\n",
    "Negative XS cause instabilities in transport sweeps.\n",
    "\n",
    "#### Reformulation as Standard Eigenvalue Problem ####\n",
    "\n",
    "Rewrite discretized form of $\\alpha$-NTE:\n",
    "\n",
    "\\begin{equation}\n",
    "(\\alpha \\mathbf{L}_{\\alpha} + \\mathbf{L})\\psi^{\\alpha} = \\mathbf{M}(\\mathbf{S}+\\mathbf{F})\\mathbf{D}\\psi^{\\alpha}\n",
    "\\end{equation}\n",
    "\n",
    "as\n",
    "\n",
    "\\begin{equation}\n",
    "\\alpha \\psi^{\\alpha} = \\mathbf{L}_{\\alpha}^{-1} [\\mathbf{M}(\\mathbf{S}+\\mathbf{F})\\mathbf{D} - \\mathbf{L}]\\psi^{\\alpha}\n",
    "\\end{equation}\n",
    "\n",
    "and use standard eigensolvers for subcritical systems ($\\alpha < 0$) for which dominant $\\alpha$ is smallest in magnitude. For supercritical systems, need correction $\\frac{\\beta}{v}\\psi^{\\alpha}$ that is subtracted from both sides:\n",
    "\n",
    "\\begin{equation}\n",
    "\\alpha \\psi^{\\alpha} - \\frac{\\beta}{v}\\psi^{\\alpha} = \\mathbf{L}_{\\alpha}^{-1} [\\mathbf{M}(\\mathbf{S}+\\mathbf{F})\\mathbf{D} - \\mathbf{L}]\\psi^{\\alpha} - \\frac{\\beta}{v}\\psi^{\\alpha}\n",
    "\\end{equation}\n",
    "\n",
    "Effective eigenvalues, $(\\alpha - \\beta)$, are all negative though method requires prior knowledge of eigenvalue to determine correction term. Also problematic since codes usually apply $\\mathbf{L}^{-1}$ instead of $\\mathbf{L}$ directly.\n",
    "\n",
    "#### Recast into Nonlinear Iteration Problem ####\n",
    "\n",
    "Eigenvalue problems can be thought of nonlinear problems since they involve product of two unknowns, the eigenvalue and eigenvector.\n",
    "\n",
    "For $\\alpha$-NTE, unknown is vector $\\mathbf{x} = \\begin{bmatrix} \\mathbf{y} \\\\ \\alpha \\end{bmatrix}$ \n",
    "\n",
    "Fixed-point iteration:\n",
    "\n",
    "\\begin{equation}\n",
    "\\mathbf{y}^{\\ell + 1} = \\mathbf{P}(\\alpha^{(\\ell)})\\mathbf{y}^{\\ell}\n",
    "\\end{equation}\n",
    "\\begin{equation}\n",
    "\\alpha^{\\ell + 1} = \\alpha^{(\\ell)} + a(\\mathbf{x}^{\\ell})\n",
    "\\end{equation}\n",
    "\n",
    "Can be rewritten as $\\mathbf{x}^{(\\ell + 1)} = \\mathbf{x}^{(\\ell)} - \\mathcal{F}(\\mathbf{x}^{(\\ell)})$ where $\\mathcal{F}$ is a nonlinear residual given by \n",
    "\n",
    "\\begin{equation}\n",
    "\\mathcal{F}(\\mathbf{x}) = \\begin{bmatrix} \\mathbf{y} - \\mathbf{P}(\\alpha)\\mathbf{y} \\\\ -a(\\mathbf{x}) \\end{bmatrix}\n",
    "\\end{equation}\n",
    "\n",
    "$\\mathbf{y}$ represents either $\\phi^{\\alpha}$ or $\\psi^{\\alpha}$ depending on the formulation and $a$ is the eigenvalue update."
   ]
  },
  {
   "cell_type": "code",
   "execution_count": null,
   "metadata": {
    "collapsed": true
   },
   "outputs": [],
   "source": []
  },
  {
   "cell_type": "code",
   "execution_count": null,
   "metadata": {
    "collapsed": true
   },
   "outputs": [],
   "source": []
  }
 ],
 "metadata": {
  "kernelspec": {
   "display_name": "Python 2",
   "language": "python",
   "name": "python2"
  },
  "language_info": {
   "codemirror_mode": {
    "name": "ipython",
    "version": 2
   },
   "file_extension": ".py",
   "mimetype": "text/x-python",
   "name": "python",
   "nbconvert_exporter": "python",
   "pygments_lexer": "ipython2",
   "version": "2.7.11"
  }
 },
 "nbformat": 4,
 "nbformat_minor": 0
}
