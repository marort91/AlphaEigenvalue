{
 "cells": [
  {
   "cell_type": "markdown",
   "metadata": {},
   "source": [
    "## Computation of Fundamental Time-eigenvalue of the Neutron Transport Equation ##\n",
    "\n",
    "Authors: Huayun Shen, Bin Zhong, and Huipo Liu\n",
    "\n",
    "Organization: Institute of Applied Physics and Computational Mathematics, Department 6"
   ]
  },
  {
   "cell_type": "markdown",
   "metadata": {},
   "source": [
    "### Methods ###\n",
    "\n",
    "#### Modified $\\alpha$-k Power Iteration Method ####\n",
    "\n",
    "\\begin{equation}\n",
    "\\hat{\\Omega} \\cdot \\nabla (\\phi_{\\alpha} - \\phi_{k}) + \\Sigma_{t}(\\phi_{\\alpha} - \\phi_{k}) + \\frac{\\alpha}{v}\\phi_{\\alpha} = \\int_{0}^{\\infty}dE' \\int_{4 \\pi} d\\Omega' \\Sigma_{s} (\\vec{r},E' \\rightarrow E, \\hat{\\Omega}' \\cdot \\hat{\\Omega}) (\\phi_{\\alpha}(\\vec{r},E',\\hat{\\Omega}')-\\phi_{k}(\\vec{r},E',\\hat{\\Omega}')) + \\frac{\\chi(E)}{4 \\pi} \\int_{0}^{\\infty} dE' \\nu_p \\Sigma_f \\int_{4 \\pi} d\\hat{\\Omega}'(\\phi_{\\alpha}(\\vec{r},E',\\hat{\\Omega}') - \\frac{\\phi_{k}(\\vec{r},E',\\hat{\\Omega}')}{k}\n",
    "\\end{equation}\n",
    "\n",
    "Assume $\\phi_{\\alpha} \\approx \\phi_{k}$. The previous expression simplifies to\n",
    "\n",
    "\\begin{equation}\n",
    "\\alpha \\approx \\frac{1}{\\phi_k/v}\\frac{k-1}{k}\\frac{\\chi(E)}{4 \\pi} \\int_{0}^{\\infty} dE' \\nu_p \\Sigma_f \\int_{4 \\pi} d\\Omega' \\phi_{k}(\\vec{r},E',\\hat{\\Omega}')\n",
    "\\end{equation}\n",
    "\n",
    "$\\alpha$ can be estimated at any point where $\\Sigma_f \\neq 0$.\n",
    "\n",
    "Using the following relationship:\n",
    "\n",
    "\\begin{equation}\n",
    "\\int_{0}^{\\infty} dE \\int_{4\\pi} d\\Omega \\frac{\\chi(E)}{4\\pi} = 1\n",
    "\\end{equation}\n",
    "\n",
    "we can approximate $\\alpha$ as \n",
    "\n",
    "\\begin{equation}\n",
    "\\alpha \\approx \\frac{k-1}{k} \\frac{\\int_{0}^{\\infty} dE' \\nu_p \\Sigma_f \\int_{4\\pi} d\\hat{\\Omega}' \\phi_{k}(\\vec{r},E',\\hat{\\Omega}')}{\\int_{0}^{\\infty}\\int_{4\\pi} d\\hat{\\Omega}\\frac{\\phi_k}{v}}\n",
    "\\end{equation}\n",
    "\n",
    "If problem has symmetry, better to calculate $\\alpha$ at central point if there is fissionable material at that point.\n",
    "\n",
    "Better estimate by integrating over everywhere where there is fissionable material:\n",
    "\n",
    "\\begin{equation}\n",
    "\\alpha \\approx \\frac{k-1}{k} \\frac{\\int_{\\Sigma_f \\neq 0} dV \\int_{0}^{\\infty} dE' \\nu_p \\Sigma_f \\int_{4\\pi} d\\hat{\\Omega}' \\phi_{k}(\\vec{r},E',\\hat{\\Omega}')}{\\int_{\\Sigma_f \\neq 0} dV \\int_{0}^{\\infty}\\int_{4\\pi} d\\hat{\\Omega}\\frac{\\phi_k}{v}}\n",
    "\\end{equation}\n",
    "\n",
    "\n",
    "##### Subcritical Problem $\\alpha$ < 0 #####\n",
    "\n",
    "Method is unstable when $\\alpha$ < 0 (i.e. when the system is subcritical). $\\alpha$-eigenvalue equation rewritten with an arbitrary parameter $\\eta$ that is greater than zero.\n",
    "\n",
    "\\begin{equation}\n",
    "\\hat{\\Omega} \\cdot \\phi_{\\alpha} + \\bigg ( \\Sigma_t - \\eta \\frac{\\alpha}{v} \\bigg ) \\phi_{\\alpha} = \\int_{0}^{\\infty} dE' \\int_{4\\pi} d\\hat{\\Omega}' \\Sigma_{s}(\\vec{r},E'\\rightarrow E, \\hat{\\Omega}' \\cdot \\hat{\\Omega})\\phi_{\\alpha}(\\vec{r},E',\\hat{\\Omega}') + \\frac{1}{k}\\frac{\\chi(E)}{4\\pi} \\int_{0}^{\\infty} dE' \\nu_{p} \\Sigma_{f}(\\vec{r},E') \\int_{4\\pi} d\\hat{\\Omega}'\\phi_{\\alpha}(\\vec{r},E',\\hat{\\Omega}' - (1+\\eta)\\frac{\\alpha}{v}\\phi_{\\alpha}(\\vec{r},E',\\hat{\\Omega}')\n",
    "\\end{equation}\n",
    "\n",
    "Default is usually $\\eta$ = 1.\n",
    "\n",
    "##### Modified Iterative Method #####\n",
    "\n",
    "Iterative Method Algorithm:\n",
    "\n",
    "1. Solve k-effective TE with $\\alpha$ = 0 for $k_0$ and $\\phi_0$.\n",
    "2. Estimate the value $\\alpha_{n-1/2}$ from $\\alpha$ expressions seen above.\n",
    "3. Let $\\alpha_n = \\alpha_{n-1} + \\alpha_{n-1/2}$ and solve $\\alpha$-NTE to find new $k_n$ and $\\phi_n$.\n",
    "4. Repeat steps 2 and 3 until $k_n$ = 1. $\\alpha_n$ will be desired eigenvalue."
   ]
  },
  {
   "cell_type": "code",
   "execution_count": null,
   "metadata": {
    "collapsed": true
   },
   "outputs": [],
   "source": []
  }
 ],
 "metadata": {
  "kernelspec": {
   "display_name": "Python 2",
   "language": "python",
   "name": "python2"
  },
  "language_info": {
   "codemirror_mode": {
    "name": "ipython",
    "version": 2
   },
   "file_extension": ".py",
   "mimetype": "text/x-python",
   "name": "python",
   "nbconvert_exporter": "python",
   "pygments_lexer": "ipython2",
   "version": "2.7.11"
  }
 },
 "nbformat": 4,
 "nbformat_minor": 0
}
