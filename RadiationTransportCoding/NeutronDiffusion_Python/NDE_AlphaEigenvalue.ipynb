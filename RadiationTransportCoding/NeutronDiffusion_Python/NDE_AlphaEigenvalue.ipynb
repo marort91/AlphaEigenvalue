{
 "cells": [
  {
   "cell_type": "markdown",
   "metadata": {},
   "source": [
    "# Neutron Diffusion Equation Alpha-Eigenvalue Calculation #\n",
    "\n",
    "Description: Solves neutron diffusion equation in slab geometry. Determines alpha-eigenvalue using LANL's first algorithm (Hill)."
   ]
  },
  {
   "cell_type": "markdown",
   "metadata": {},
   "source": [
    "### Alpha-Eigenvalue Neutron Diffusion Equation in Slab with Fission Source ###\n",
    "The NDE in a slab is given by\n",
    "\n",
    " $$ -\\frac{d}{dx}D(x)\\frac{d\\phi(x)}{dx} + \\bigg ( \\Sigma_a + \\frac{\\alpha}{v} \\bigg ) \\phi(x) = \\frac{1}{k}\\nu\n",
    " \\Sigma_f \\phi(x) $$\n",
    "\n",
    " where $D(x)$ is the diffusion coefficient, $\\Sigma_a$ and $\\Sigma_f$ are\n",
    " the absorption and fission macroscopic cross sections, $\\nu$ is the\n",
    " average number of neutrons emitted in fission, $k$ is k-effective, and $\\alpha$ is the alpha-eigenvalue.\n"
   ]
  },
  {
   "cell_type": "markdown",
   "metadata": {},
   "source": [
    "### Import Python Libraries ###"
   ]
  },
  {
   "cell_type": "code",
   "execution_count": 16,
   "metadata": {
    "collapsed": true
   },
   "outputs": [],
   "source": [
    "%matplotlib inline\n",
    "\n",
    "import numpy as np\n",
    "import matplotlib.pyplot as plt"
   ]
  },
  {
   "cell_type": "markdown",
   "metadata": {},
   "source": [
    "### Material Properties ###"
   ]
  },
  {
   "cell_type": "code",
   "execution_count": 17,
   "metadata": {
    "collapsed": true
   },
   "outputs": [],
   "source": [
    "D = 0.9\n",
    "nusigf = 0.70\n",
    "siga = 0.066"
   ]
  },
  {
   "cell_type": "markdown",
   "metadata": {},
   "source": [
    "### Slab Geometry Width and Discretization ###"
   ]
  },
  {
   "cell_type": "code",
   "execution_count": 18,
   "metadata": {
    "collapsed": false
   },
   "outputs": [],
   "source": [
    "#Lx = np.pi*((nusigf-siga)/D)**(-0.5)\n",
    "Lx = 15.0\n",
    "\n",
    "N = 55;\n",
    "h = Lx/(N-1)\n",
    "\n",
    "x = np.zeros(N)\n",
    "\n",
    "for i in range(N-1):\n",
    "    x[i+1] = x[i] + h"
   ]
  },
  {
   "cell_type": "markdown",
   "metadata": {},
   "source": [
    "### Generation of Leakage Matrix ###"
   ]
  },
  {
   "cell_type": "code",
   "execution_count": 19,
   "metadata": {
    "collapsed": false
   },
   "outputs": [],
   "source": [
    "L = np.zeros((N,N))\n",
    "A = np.zeros((N,N))\n",
    "M = np.zeros((N,N))\n",
    "\n",
    "for i in range(N):\n",
    "    L[i][i] = L[i][i] + (-2*(-D/(h**2)))\n",
    "    \n",
    "for i in range(1,N):\n",
    "    L[i][i-1] = L[i][i-1] + (1*(-D/h**2))\n",
    "    \n",
    "for i in range(N-1):\n",
    "    L[i][i+1] = L[i][i+1] + (1*(-D/h**2))"
   ]
  },
  {
   "cell_type": "markdown",
   "metadata": {},
   "source": [
    "### Algorithm ###"
   ]
  },
  {
   "cell_type": "markdown",
   "metadata": {},
   "source": [
    "Using Hill's (LANL) algorithm, we calculate the $\\alpha$-eigenvalue as follows:\n",
    "\n",
    "1. Guess $\\alpha_0$ (usually $\\alpha_0$ = 0)\n",
    "2. Solve for $k_0$\n",
    "3. Modify the initial $\\alpha_0$ using some modifier ($\\alpha_1 = \\alpha_0 + \\xi$)\n",
    "4. Solve for $k_1$\n",
    "5. Using the points $(k_i,\\alpha_i)$ and $(k_{i-1},\\alpha_{i-1})$, linearly extrapolate $\\alpha_{i+1}$ such that $k_{i+1} = 0$.\n",
    "6. Repeat until $k_i = 1$.\n",
    "\n",
    "Problems: \n",
    "\n",
    "1) If the system is subcritical enough \n",
    "\n",
    "\\begin{equation}\n",
    "\\frac{\\alpha}{v} - \\Sigma_{a} < 0\n",
    "\\end{equation}\n",
    "\n",
    "which causes instabilities (confirm by looking at the condition number of matrix iterations). Need to add parameter to prevent this according to Warsa and Fichtl.\n",
    "\n",
    "2) Bad guesses of $\\alpha_0$ causes algorithm to fail and does not converge."
   ]
  },
  {
   "cell_type": "code",
   "execution_count": 20,
   "metadata": {
    "collapsed": false
   },
   "outputs": [
    {
     "name": "stdout",
     "output_type": "stream",
     "text": [
      "alpha = 0.594532716010151\n",
      "k-effective = 0.999999999999995\n"
     ]
    }
   ],
   "source": [
    "#Generate flux vector\n",
    "\n",
    "#Tolerance, k-effective and alpha initial guesses, alpha-eigenvalue modifier\n",
    "tol = 1e-10\n",
    "k = 1.00\n",
    "alpha = 0.0\n",
    "evm = 0.01\n",
    "\n",
    "#Alpha-eigenvalue outer iteration\n",
    "for j in range(1,100):\n",
    "    \n",
    "    kprev = k\n",
    "    \n",
    "    A = np.zeros((N,N))\n",
    "    phi0 = np.ones((N,1))\n",
    "    phi0[0] = 0\n",
    "    phi0[N-1] = 0\n",
    "    k = 1.0\n",
    "    \n",
    "    for i in range(N):\n",
    "        A[i][i] = A[i][i] + siga + alpha\n",
    "    \n",
    "    M = L + A\n",
    "    M[0][0] = 1\n",
    "    M[0][1] = 0\n",
    "    M[N-1][N-1] = 1\n",
    "    M[N-1][N-2] = 0\n",
    "\n",
    "    #k-effective inner iteration\n",
    "    for i in range(100):\n",
    "    \n",
    "        kold = k\n",
    "        psi = np.linalg.solve(M,nusigf*phi0)\n",
    "    \n",
    "        k = sum(nusigf*psi)/sum(nusigf*phi0)\n",
    "        phi0 = (1/k)*psi\n",
    "        phi0[0] = 0\n",
    "        phi0[N-1] = 0\n",
    "    \n",
    "        residual = np.abs(k-kold)\n",
    "    \n",
    "        if residual <= tol:\n",
    "            break\n",
    "    \n",
    "    #Modify alpha-eigenvalue after first iteration, or linearly extrapolate new guess such that k equals 1\n",
    "    #Reminder: does not calculate both k and alpha\n",
    "    if j == 2:        \n",
    "            \n",
    "        alpha_prev = alpha\n",
    "        alpha = alpha + evm\n",
    "        \n",
    "    elif j > 2:\n",
    "        \n",
    "        #print \"alpha-alpha_prev = \", alpha-alpha_prev\n",
    "        #print \"alpha = \", alpha\n",
    "        #print \"alpha_prev = \", alpha_prev\n",
    "        #print \"j = \", j\n",
    "        \n",
    "        if abs(alpha - alpha_prev) < tol:\n",
    "            \n",
    "            break\n",
    "        \n",
    "        alpha_new = alpha_prev + (1-kprev)/(k-kprev)*(alpha-alpha_prev)\n",
    "        alpha_prev = alpha\n",
    "        alpha = alpha_new\n",
    "        \n",
    "    else:\n",
    "        \n",
    "        continue\n",
    "        \n",
    "    #if abs(k-1) < tol:\n",
    "    #    print \"alpha = \", alpha\n",
    "    #    print \"k-effective = \", k\n",
    "    #    break\n",
    "        \n",
    "#print(\"abs(k-1) = %.20f\" % abs(k-1))        \n",
    "        \n",
    "print(\"alpha = %.15f\" % alpha)\n",
    "print('k-effective = %.15f' % k)\n",
    "\n",
    "#plt.plot(x,phi0)\n",
    "#plt.xlabel('Slab (cm)')\n",
    "#plt.ylabel('Neutron Flux')\n",
    "#plt.grid()\n",
    "\n",
    "#print \" alpha = \", (k-1)/k * sum(nusigf*phi0)/sum(phi0)"
   ]
  },
  {
   "cell_type": "code",
   "execution_count": null,
   "metadata": {
    "collapsed": true
   },
   "outputs": [],
   "source": []
  }
 ],
 "metadata": {
  "kernelspec": {
   "display_name": "Python 2",
   "language": "python",
   "name": "python2"
  },
  "language_info": {
   "codemirror_mode": {
    "name": "ipython",
    "version": 2
   },
   "file_extension": ".py",
   "mimetype": "text/x-python",
   "name": "python",
   "nbconvert_exporter": "python",
   "pygments_lexer": "ipython2",
   "version": "2.7.11"
  }
 },
 "nbformat": 4,
 "nbformat_minor": 0
}
